{
 "cells": [
  {
   "cell_type": "markdown",
   "id": "2ecc6a35",
   "metadata": {},
   "source": [
    "# Data Science Tools and Ecosystem"
   ]
  },
  {
   "cell_type": "markdown",
   "id": "63a19e6a",
   "metadata": {},
   "source": [
    "In this notebook, Data Science Tools and Ecosystem are summarized."
   ]
  },
  {
   "cell_type": "markdown",
   "id": "182e2201",
   "metadata": {},
   "source": [
    "Some of the popular languages that Data Scientists use are:\n",
    "1. Python\n",
    "2. Java\n",
    "3. R\n",
    "4. Julia"
   ]
  },
  {
   "cell_type": "markdown",
   "id": "a60ed1b3",
   "metadata": {},
   "source": [
    "Some of the commonly used libraries used by Data Scientists include:\n",
    "1. numpy\n",
    "2. caret\n",
    "3. pandas"
   ]
  },
  {
   "cell_type": "markdown",
   "id": "d99b41aa",
   "metadata": {},
   "source": [
    "|Data Science Tools|\n",
    "|---|\n",
    "|R Studio|\n",
    "|Jupyter notebook|\n",
    "|Spyder|\n",
    "|Git|"
   ]
  },
  {
   "cell_type": "markdown",
   "id": "81cd9411",
   "metadata": {},
   "source": [
    "### Below are a few examples of evaluating arithmetic expressions in Python."
   ]
  },
  {
   "cell_type": "code",
   "execution_count": 1,
   "id": "b45336f4",
   "metadata": {},
   "outputs": [
    {
     "data": {
      "text/plain": [
       "17"
      ]
     },
     "execution_count": 1,
     "metadata": {},
     "output_type": "execute_result"
    }
   ],
   "source": [
    "#This a simple arithmetic expression to mutiply then add integers\n",
    "(3*4)+5"
   ]
  },
  {
   "cell_type": "code",
   "execution_count": 3,
   "id": "b7d43c3b",
   "metadata": {},
   "outputs": [
    {
     "name": "stdout",
     "output_type": "stream",
     "text": [
      "200  are equal to  3.3333333333333335  hour(s)\n"
     ]
    }
   ],
   "source": [
    "#This will convert 200 minutes to hours by diving by 60\n",
    "minutes = 200\n",
    "convert_hour = minutes/60\n",
    "print(minutes,' are equal to ',convert_hour,' hour(s)')"
   ]
  },
  {
   "cell_type": "markdown",
   "id": "04ecb4fa",
   "metadata": {},
   "source": [
    "# <b>Objectives:</b>\n",
    "- Learn Python\n",
    "- Learn Tensorflow\n",
    "- Lear R language\n",
    "- Learn Machine learning"
   ]
  },
  {
   "cell_type": "markdown",
   "id": "26d8090a",
   "metadata": {},
   "source": [
    "## Author:\n",
    "Avertino Benedito"
   ]
  },
  {
   "cell_type": "code",
   "execution_count": null,
   "id": "cd8660b5",
   "metadata": {},
   "outputs": [],
   "source": []
  }
 ],
 "metadata": {
  "kernelspec": {
   "display_name": "Python 3",
   "language": "python",
   "name": "python3"
  },
  "language_info": {
   "codemirror_mode": {
    "name": "ipython",
    "version": 3
   },
   "file_extension": ".py",
   "mimetype": "text/x-python",
   "name": "python",
   "nbconvert_exporter": "python",
   "pygments_lexer": "ipython3",
   "version": "3.8.8"
  }
 },
 "nbformat": 4,
 "nbformat_minor": 5
}
